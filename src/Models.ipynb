{
 "cells": [
  {
   "cell_type": "code",
   "execution_count": 32,
   "metadata": {},
   "outputs": [],
   "source": [
    "import pandas as pd\n",
    "import numpy as np\n",
    "import matplotlib.pyplot as plt\n",
    "import string\n",
    "import re\n",
    "from nltk.corpus import stopwords\n",
    "from sklearn.model_selection import train_test_split, GridSearchCV\n",
    "from sklearn.feature_extraction.text import TfidfVectorizer\n",
    "from sklearn.pipeline import make_pipeline\n",
    "from sklearn.linear_model import LogisticRegression\n",
    "from sklearn.ensemble import RandomForestClassifier\n",
    "from sklearn.naive_bayes import MultinomialNB\n",
    "from sklearn.svm import SVC\n",
    "from sklearn.metrics import confusion_matrix,accuracy_score, classification_report,f1_score\n",
    "from sklearn.preprocessing import LabelEncoder\n",
    "\n",
    "train = pd.read_csv('../data/Clean_apps_ar_reviews.csv', encoding='utf-8')"
   ]
  },
  {
   "cell_type": "code",
   "execution_count": 33,
   "metadata": {},
   "outputs": [],
   "source": [
    "# splitting the data into target and feature\n",
    "feature = train[\"Review\"]\n",
    "\n",
    "# encode Label Column\n",
    "encoder = LabelEncoder()\n",
    "train['Label'] = encoder.fit_transform(train['Polarity sentiment'])\n",
    "\n",
    "target = train['Label']\n",
    "# splitting into train and tests\n",
    "X_train, X_test, Y_train, Y_test = train_test_split(feature, target, test_size =.2, random_state=100)"
   ]
  },
  {
   "cell_type": "markdown",
   "metadata": {},
   "source": [
    "## Random Forest"
   ]
  },
  {
   "cell_type": "code",
   "execution_count": 34,
   "metadata": {},
   "outputs": [
    {
     "name": "stdout",
     "output_type": "stream",
     "text": [
      "f1 Score ->  78.67287543655414\n",
      "              precision    recall  f1-score   support\n",
      "\n",
      "           0       0.70      0.77      0.73      1330\n",
      "           1       0.32      0.18      0.23       536\n",
      "           2       0.89      0.93      0.91      2429\n",
      "\n",
      "    accuracy                           0.79      4295\n",
      "   macro avg       0.64      0.63      0.63      4295\n",
      "weighted avg       0.76      0.79      0.77      4295\n",
      "\n"
     ]
    }
   ],
   "source": [
    "# assemble several steps that can be cross-validated together while setting different parameters.\n",
    "pipe = make_pipeline(TfidfVectorizer(),\n",
    "                    RandomForestClassifier())\n",
    "# used to iterate over parameter value combinations \n",
    "param_grid = {'randomforestclassifier__n_estimators':[10, 100, 1000],\n",
    "             'randomforestclassifier__max_features':['sqrt', 'log2']}\n",
    "\n",
    "# exhaustive search over specified parameter values for an estimator.\n",
    "rf_model = GridSearchCV(pipe, param_grid, cv=5)\n",
    "rf_model.fit(X_train,Y_train)\n",
    "\n",
    "prediction = rf_model.predict(X_test)\n",
    "\n",
    "print(\"f1 Score -> \",f1_score(Y_test,prediction,average='micro')*100)"
   ]
  },
  {
   "cell_type": "code",
   "execution_count": 35,
   "metadata": {},
   "outputs": [
    {
     "name": "stdout",
     "output_type": "stream",
     "text": [
      " Results from Grid Search \n",
      "\n",
      " The best estimator across ALL searched params:\n",
      " Pipeline(steps=[('tfidfvectorizer', TfidfVectorizer()),\n",
      "                ('randomforestclassifier',\n",
      "                 RandomForestClassifier(max_features='log2'))])\n",
      "\n",
      " The best score across ALL searched params:\n",
      " 0.8006867604421377\n",
      "\n",
      " The best parameters across ALL searched params:\n",
      " {'randomforestclassifier__max_features': 'log2', 'randomforestclassifier__n_estimators': 100}\n"
     ]
    }
   ],
   "source": [
    "print(\" Results from Grid Search \" )\n",
    "print(\"\\n The best estimator across ALL searched params:\\n\",rf_model.best_estimator_)\n",
    "print(\"\\n The best score across ALL searched params:\\n\",rf_model.best_score_)\n",
    "print(\"\\n The best parameters across ALL searched params:\\n\",rf_model.best_params_)"
   ]
  },
  {
   "cell_type": "markdown",
   "metadata": {},
   "source": [
    "## Multinomial Naive Bayes"
   ]
  },
  {
   "cell_type": "code",
   "execution_count": 41,
   "metadata": {},
   "outputs": [
    {
     "name": "stdout",
     "output_type": "stream",
     "text": [
      "f1 Score ->  77.9743888242142\n"
     ]
    }
   ],
   "source": [
    "# assemble several steps that can be cross-validated together while setting different parameters.\n",
    "pipe = make_pipeline(TfidfVectorizer(),\n",
    "                    MultinomialNB())\n",
    "pipe.fit(X_train,Y_train)\n",
    "prediction = pipe.predict(X_test)\n",
    "print(\"f1 Score -> \",f1_score(Y_test,prediction,average='micro')*100)\n"
   ]
  },
  {
   "cell_type": "markdown",
   "metadata": {},
   "source": [
    "## SVM"
   ]
  },
  {
   "cell_type": "code",
   "execution_count": 42,
   "metadata": {},
   "outputs": [
    {
     "name": "stdout",
     "output_type": "stream",
     "text": [
      "f1 Score ->  81.86263096623982\n"
     ]
    }
   ],
   "source": [
    "# assemble several steps that can be cross-validated together while setting different parameters.\n",
    "pipe = make_pipeline(TfidfVectorizer(), SVC())\n",
    "\n",
    "# used to iterate over parameter value combinations \n",
    "param_grid = {'svc__kernel': ['rbf', 'poly'],\n",
    "             'svc__gamma': [0.1, 1, 10, 100],\n",
    "             'svc__C': [0.1, 1, 10, 100]}\n",
    "\n",
    "# exhaustive search over specified parameter values for an estimator.\n",
    "svc_model = GridSearchCV(pipe, param_grid, cv=3)\n",
    "svc_model.fit(X_train, Y_train)\n",
    "\n",
    "prediction = svc_model.predict(X_test)\n",
    "print(\"f1 Score -> \",f1_score(Y_test,prediction,average='micro')*100)\n"
   ]
  },
  {
   "cell_type": "code",
   "execution_count": 43,
   "metadata": {},
   "outputs": [
    {
     "name": "stdout",
     "output_type": "stream",
     "text": [
      " Results from Grid Search \n",
      "\n",
      " The best estimator across ALL searched params:\n",
      " Pipeline(steps=[('tfidfvectorizer', TfidfVectorizer()),\n",
      "                ('svc', SVC(C=10, gamma=0.1))])\n",
      "\n",
      " The best score across ALL searched params:\n",
      " 0.8282791652468937\n",
      "\n",
      " The best parameters across ALL searched params:\n",
      " {'svc__C': 10, 'svc__gamma': 0.1, 'svc__kernel': 'rbf'}\n"
     ]
    }
   ],
   "source": [
    "print(\" Results from Grid Search \" )\n",
    "print(\"\\n The best estimator across ALL searched params:\\n\",svc_model.best_estimator_)\n",
    "print(\"\\n The best score across ALL searched params:\\n\",svc_model.best_score_)\n",
    "print(\"\\n The best parameters across ALL searched params:\\n\",svc_model.best_params_)"
   ]
  },
  {
   "cell_type": "markdown",
   "metadata": {},
   "source": [
    "## Confusion Matrix of The Best Model"
   ]
  },
  {
   "cell_type": "code",
   "execution_count": 46,
   "metadata": {},
   "outputs": [
    {
     "name": "stdout",
     "output_type": "stream",
     "text": [
      "[[1039  134  157]\n",
      " [ 215  237   84]\n",
      " [ 150   39 2240]]\n"
     ]
    },
    {
     "data": {
      "image/png": "[encoded data removed]",
      "text/plain": [
       "<Figure size 432x432 with 2 Axes>"
      ]
     },
     "metadata": {
      "needs_background": "light"
     },
     "output_type": "display_data"
    }
   ],
   "source": [
    "from sklearn.metrics import confusion_matrix\n",
    "import itertools    \n",
    "def plot_confusion_matrix(cm, classes,\n",
    "                          normalize=False,\n",
    "                          title='Confusion matrix',\n",
    "                          cmap=plt.cm.Blues):\n",
    "    plt.imshow(cm, interpolation='nearest', cmap=cmap)\n",
    "    plt.title(title)\n",
    "    plt.colorbar()\n",
    "    tick_marks = np.arange(len(classes))\n",
    "    plt.xticks(tick_marks, classes, rotation=45)\n",
    "    plt.yticks(tick_marks, classes)\n",
    "    print(cm)\n",
    "    thresh = cm.max() / 3.\n",
    "    for i, j in itertools.product(range(cm.shape[0]), range(cm.shape[1])):\n",
    "        plt.text(j, i, cm[i, j],\n",
    "                 horizontalalignment=\"center\",\n",
    "                 color=\"white\" if cm[i, j] > thresh else \"black\")\n",
    "    plt.tight_layout()\n",
    "    plt.ylabel('True label')\n",
    "    plt.xlabel('Predicted label')\n",
    "\n",
    "# Compute confusion matrix\n",
    "cnf_matrix = confusion_matrix(Y_test,prediction)\n",
    "np.set_printoptions(precision=3)\n",
    "\n",
    "# Plot non-normalized confusion matrix\n",
    "plt.figure(figsize=(6, 6))\n",
    "plot_confusion_matrix(cnf_matrix, classes=[0,1,2],\n",
    "                      title='SVM Confusion matrix')\n",
    "\n",
    "plt.show()"
   ]
  },
  {
   "cell_type": "markdown",
   "metadata": {},
   "source": [
    "### Save The Model"
   ]
  },
  {
   "cell_type": "code",
   "execution_count": null,
   "metadata": {},
   "outputs": [],
   "source": [
    "filename = 'secendSVM_model.pkl'\n",
    "pickle.dump(clf, open(filename, 'wb'))\n",
    "\n",
    "# Reload Model\n",
    "with open(filename, 'rb') as file:  \n",
    "    Pickled_LR_Model = pickle.load(file)\n",
    "\n",
    "Pickled_LR_Model"
   ]
  },
  {
   "cell_type": "markdown",
   "metadata": {},
   "source": [
    "### Make Predictions"
   ]
  },
  {
   "cell_type": "code",
   "execution_count": null,
   "metadata": {},
   "outputs": [],
   "source": [
    "# Use the Reloaded Model to predict target values\n",
    "Ypredict = Pickled_LR_Model.predict(Test_X)  \n",
    "\n",
    "Ypredict"
   ]
  },
  {
   "cell_type": "code",
   "execution_count": null,
   "metadata": {},
   "outputs": [],
   "source": [
    "#Load new unlabeled data and label it using the model\n",
    "sample_sub=pd.read_csv('finalUnlabelled.csv', encoding='utf-8')\n",
    "text = vectorizer.transform(sample_sub['text'])\n",
    "\n",
    "y_pre=Pickled_LR_Model.predict(text)\n",
    "sub=pd.DataFrame({'text':sample_sub['text'].values.tolist(),'target':y_pre})\n",
    "sub.to_csv('new_labeled_data.csv',index=False)"
   ]
  }
 ],
 "metadata": {
  "kernelspec": {
   "display_name": "Python 3",
   "language": "python",
   "name": "python3"
  },
  "language_info": {
   "codemirror_mode": {
    "name": "ipython",
    "version": 3
   },
   "file_extension": ".py",
   "mimetype": "text/x-python",
   "name": "python",
   "nbconvert_exporter": "python",
   "pygments_lexer": "ipython3",
   "version": "3.7.9"
  }
 },
 "nbformat": 4,
 "nbformat_minor": 4
}
